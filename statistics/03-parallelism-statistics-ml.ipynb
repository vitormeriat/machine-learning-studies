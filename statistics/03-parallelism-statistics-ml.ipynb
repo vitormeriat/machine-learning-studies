{
 "cells": [
  {
   "cell_type": "markdown",
   "metadata": {},
   "source": [
    "# Parallelism of Statistics and Machine Learning\n",
    "\n",
    "À primeira vista, o aprendizado de máquina parece estar distante das estatísticas. No entanto, se dermos uma olhada mais profunda neles, podemos traçar paralelos entre ambos. Neste capítulo, vamos nos aprofundar nos detalhes. Foram feitas comparações entre regressão linear e regressão laço / cume, a fim de fornecer uma comparação simples entre modelagem estatística e aprendizado de máquina. Estes são modelos básicos nos dois mundos e são bons para começar.\n",
    "\n",
    "Neste capítulo, abordaremos o seguinte:\n",
    "\n",
    "* Compreensão dos parâmetros estatísticos e diagnósticos\n",
    "* Fatores compensadores em modelos de aprendizado de máquina para equiparar o diagnóstico estatístico\n",
    "* Regressão de Ridge e Lasso\n",
    "* Comparação do quadrado R (R-square) ajustado com precisão\n",
    "\n",
    "## Comparação entre modelos de regressão e aprendizado de máquina (Comparison between regression and machine learning models)\n",
    "\n",
    "Os modelos de regressão linear e aprendizado de máquina tentam resolver o mesmo problema de maneiras diferentes. No exemplo simples a seguir de uma equação de duas variáveis ajustando o melhor plano possível, os modelos de regressão tentam ajustar o melhor hiperplano possível, minimizando os erros entre o hiperplano e as observações reais. No entanto, no aprendizado de máquina, o mesmo problema foi convertido em um problema de otimização, no qual os erros são modelados no formato quadrado para minimizar erros, alterando os pesos.\n",
    "\n",
    "Na modelagem estatística, as amostras são coletadas da população e o modelo será ajustado nos dados amostrados. No entanto, no aprendizado de máquina, mesmo números pequenos, como 30 observações, seriam bons o suficiente para atualizar os pesos no final de cada iteração; em alguns casos, como aprendizado on-line, o modelo será atualizado com apenas uma observação:\n",
    "\n",
    "![1](https://learning.oreilly.com/library/view/statistics-for-machine/9781788295758/assets/190e152c-5234-4e6a-aafb-211597d96254.png)\n",
    "\n",
    "Os modelos de aprendizado de máquina podem ser efetivamente paralelizados e criados para funcionar em várias máquinas nas quais os pesos do modelo são transmitidos entre as máquinas e assim por diante. No caso de big data com Spark, essas técnicas são implementadas.\n",
    "\n",
    "Os modelos estatísticos são de natureza paramétrica, o que significa que um modelo terá parâmetros nos quais os diagnósticos são realizados para verificar a validade do modelo. Enquanto os modelos de aprendizado de máquina são não paramétricos, não possuem parâmetros ou suposições de curvas; esses modelos aprendem sozinhos com base nos dados fornecidos e apresentam funções complexas e intrincadas, em vez de ajustes de funções predefinidos.\n",
    "\n",
    "As verificações de multicolinearidade devem ser executadas na modelagem estatística. Considerando que, no espaço de aprendizado de máquina, os pesos são ajustados automaticamente para compensar o problema da multicolinearidade. Se considerarmos métodos de conjuntos baseados em árvores, como ensacamento, floresta aleatória, reforço e assim por diante, a multicolinearidade nem sequer existe, pois o modelo subjacente é uma árvore de decisão, que não apresenta um problema de multicolinearidade no primeiro Lugar, colocar.\n",
    "\n",
    "Com a evolução do big data e da computação paralela distribuída, modelos mais complexos estão produzindo resultados de ponta que eram impossíveis com a tecnologia do passado."
   ]
  },
  {
   "cell_type": "code",
   "execution_count": null,
   "metadata": {},
   "outputs": [],
   "source": []
  }
 ],
 "metadata": {
  "kernelspec": {
   "display_name": "Python 3",
   "language": "python",
   "name": "python3"
  },
  "language_info": {
   "codemirror_mode": {
    "name": "ipython",
    "version": 3
   },
   "file_extension": ".py",
   "mimetype": "text/x-python",
   "name": "python",
   "nbconvert_exporter": "python",
   "pygments_lexer": "ipython3",
   "version": "3.7.4"
  }
 },
 "nbformat": 4,
 "nbformat_minor": 4
}
